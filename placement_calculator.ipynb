{
  "nbformat": 4,
  "nbformat_minor": 0,
  "metadata": {
    "colab": {
      "name": "placement_calculator.ipynb",
      "provenance": [],
      "authorship_tag": "ABX9TyMANJmLQyzxW/O8UjUmU8jM",
      "include_colab_link": true
    },
    "kernelspec": {
      "name": "python3",
      "display_name": "Python 3"
    },
    "language_info": {
      "name": "python"
    }
  },
  "cells": [
    {
      "cell_type": "markdown",
      "metadata": {
        "id": "view-in-github",
        "colab_type": "text"
      },
      "source": [
        "<a href=\"https://colab.research.google.com/github/naik-sachin/leif/blob/main/placement_calculator.ipynb\" target=\"_parent\"><img src=\"https://colab.research.google.com/assets/colab-badge.svg\" alt=\"Open In Colab\"/></a>"
      ]
    },
    {
      "cell_type": "code",
      "metadata": {
        "id": "-kiIx6tONXre"
      },
      "source": [
        "def payment_plan_calculator(salary, tuition):\n",
        "  total_payment = 1.2 * tuition # total payment has to be 1.2 times the tuition\n",
        "  monthly_income = salary/12  # monthly pre tax income\n",
        "  n_payments = 36 # at least total number of payments \n",
        "  monthly_income_share_percent = 0.08 # Income share percent of monthly income\n",
        "  \"\"\"If monthly income share is greater than 8 % of monthly income then increase\n",
        "    number of payments untill monthly income share is less than monthly income\"\"\"\n",
        "  if total_payment/n_payments > monthly_income_share_percent*monthly_income:\n",
        "    while total_payment/n_payments > monthly_income_share_percent*monthly_income:\n",
        "      n_payments+=1 \n",
        "    # calculate new income share based on updated number of payments  \n",
        "    income_share = total_payment/n_payments\n",
        "    # calculate effective interest rate\n",
        "    interest_rate = (1+1/n_payments)**n_payments-1\n",
        "    return income_share,n_payments,interest_rate\n",
        "\n",
        "  \"\"\"If monthly income share is less than 8 % of monthly income then decrease\n",
        "     monthly income share percent untill there are at least 36 payments\"\"\"\n",
        "  else:\n",
        "    while total_payment/n_payments < monthly_income_share_percent*monthly_income:\n",
        "      monthly_income_share_percent =  monthly_income_share_percent - 0.00001\n",
        "    #calculate new income share based on updated number of payments  \n",
        "    income_share = total_payment/n_payments\n",
        "    # calculate effective interest rate\n",
        "    \"\"\"PS:interest rate will be constant after a certain threshold since payment\n",
        "       is made in 36 months\"\"\"\n",
        "    interest_rate = (1+1/n_payments)**n_payments-1\n",
        "    return income_share,n_payments,interest_rate"
      ],
      "execution_count": null,
      "outputs": []
    },
    {
      "cell_type": "markdown",
      "metadata": {
        "id": "_cDzP2TAK8Ea"
      },
      "source": [
        ""
      ]
    }
  ]
}